{
 "cells": [
  {
   "cell_type": "code",
   "execution_count": null,
   "id": "34e223c4",
   "metadata": {},
   "outputs": [],
   "source": [
    "Jostein Nina Aguilar"
   ]
  },
  {
   "cell_type": "code",
   "execution_count": 10,
   "id": "321d53fa",
   "metadata": {},
   "outputs": [
    {
     "name": "stdout",
     "output_type": "stream",
     "text": [
      "Thread-16 dice hola en el tiempo: 2021-09-09 21:09:20.971675 Thread-17 dice hola en el tiempo: 2021-09-09 21:09:20.972674 \n",
      "\n",
      "Wall time: 3.99 ms\n"
     ]
    }
   ],
   "source": [
    "%%time\n",
    "import threading\n",
    "import datetime\n",
    "\n",
    "class ThreadClass(threading.Thread):\n",
    "    \n",
    "    def run(self):\n",
    "        now = datetime.datetime.now()\n",
    "        print(\"%s dice hola en el tiempo: %s \" %\n",
    "        (self.getName(), now))\n",
    "        \n",
    "for i in range(2):\n",
    "    t = ThreadClass()\n",
    "    t.start()"
   ]
  },
  {
   "cell_type": "code",
   "execution_count": 9,
   "id": "d669cc21",
   "metadata": {},
   "outputs": [
    {
     "name": "stdout",
     "output_type": "stream",
     "text": [
      "HTTPSConnectionPool(host='www.python.org', port=443)\n",
      "HTTPSConnectionPool(host='www.yahoo.com', port=443)\n",
      "HTTPSConnectionPool(host='www.google.com', port=443)\n",
      "HTTPSConnectionPool(host='www.ujcm.edu.pe', port=443)\n",
      "Wall time: 77.9 ms\n"
     ]
    }
   ],
   "source": [
    "%%time\n",
    "from multiprocessing.dummy import Pool as ThreadPool\n",
    "import urllib3\n",
    "\n",
    "pool = ThreadPool(4)\n",
    "\n",
    "urls = [\n",
    "'https://www.python.org', 'https://www.yahoo.com',\n",
    "'https://www.google.com', 'https://www.ujcm.edu.pe'\n",
    "]\n",
    "\n",
    "results = pool.map(urllib3.connection_from_url, urls)\n",
    "\n",
    "for re in results:\n",
    "    print(re)\n",
    "\n",
    "pool.close()\n",
    "pool.join()"
   ]
  },
  {
   "cell_type": "code",
   "execution_count": 3,
   "id": "4dfbb5c8",
   "metadata": {},
   "outputs": [
    {
     "name": "stdout",
     "output_type": "stream",
     "text": [
      "Wall time: 19.9 ms\n"
     ]
    }
   ],
   "source": [
    "%%time\n",
    "import multiprocessing\n",
    "  \n",
    "def worker(num):  \n",
    "    \"\"\"thread worker function\"\"\"  \n",
    "    print('Worker:', num  )\n",
    "    return  \n",
    "  \n",
    "if __name__ == '__main__':  \n",
    "    jobs = []  \n",
    "    for i in range(5):  \n",
    "        p = multiprocessing.Process(target=worker, args=(i,))  \n",
    "        jobs.append(p)  \n",
    "        p.start()"
   ]
  },
  {
   "cell_type": "code",
   "execution_count": 11,
   "id": "2f69e90d",
   "metadata": {},
   "outputs": [
    {
     "name": "stdout",
     "output_type": "stream",
     "text": [
      "Starting 3 threads...\n",
      "Hello, I am the thread Thread-18 \n",
      "Hello, I am the thread Thread-19 \n",
      "Hello, I am the thread Thread-20 \n",
      "Wall time: 46.9 ms\n"
     ]
    }
   ],
   "source": [
    "%%time\n",
    "import multiprocessing\n",
    "import time\n",
    "\n",
    "def worker():\n",
    "    name = multiprocessing.current_process().name\n",
    "    print (name, 'Starting' )\n",
    "    time.sleep(2)\n",
    "    print (name, 'Exiting' )\n",
    "    \n",
    "def my_service():\n",
    "    name = multiprocessing.current_process().name\n",
    "    print (name, 'Starting' )\n",
    "    time.sleep(3)\n",
    "    print (name, 'Exiting' )\n",
    "    \n",
    "if __name__ == '__main__':\n",
    "    service = multiprocessing.Process(name='my_service',target=my_service)\n",
    "    worker_1 = multiprocessing.Process(name='worker 1',target=worker)\n",
    "    worker_2 = multiprocessing.Process(target=worker) # default name\n",
    "    worker_1.start()\n",
    "    worker_2.start()\n",
    "    service.start()\n",
    "    \n",
    "import threading\n",
    "\n",
    "# how many threads we want to start\n",
    "THREADS_COUNT = 3\n",
    "\n",
    "class Threaded_worker(threading.Thread):\n",
    "    def __init__(self):\n",
    "        threading.Thread.__init__(self)\n",
    "    def run(self):\n",
    "        threadName = threading.currentThread().getName()\n",
    "        print(\"Hello, I am the thread %s \" % threadName)\n",
    "\n",
    "print('Starting %d threads...' % THREADS_COUNT)\n",
    "for i in range(THREADS_COUNT):\n",
    "    td = Threaded_worker()\n",
    "    td.start()"
   ]
  },
  {
   "cell_type": "code",
   "execution_count": 7,
   "id": "c590c3d7",
   "metadata": {},
   "outputs": [
    {
     "name": "stdout",
     "output_type": "stream",
     "text": [
      "Starting 3 processes...\n",
      "Wall time: 14 ms\n"
     ]
    }
   ],
   "source": [
    "%%time\n",
    "import multiprocessing\n",
    "import os\n",
    "\n",
    "# how many processes we want to start\n",
    "WORKER_NUMBER = 3\n",
    "\n",
    "def worker():\n",
    "    PID = os.getpid()\n",
    "    print (\"Hello, I am the process with PID %d\" % PID)\n",
    "\n",
    "print ('Starting %d processes...' % WORKER_NUMBER)\n",
    "\n",
    "jobs = []\n",
    "for i in range(WORKER_NUMBER):\n",
    "    p = multiprocessing.Process(target=worker, args=())\n",
    "    jobs.append(p)\n",
    "    p.start()"
   ]
  },
  {
   "cell_type": "code",
   "execution_count": 5,
   "id": "0856d14d",
   "metadata": {},
   "outputs": [
    {
     "name": "stdout",
     "output_type": "stream",
     "text": [
      "Wall time: 46.7 s\n"
     ]
    }
   ],
   "source": [
    "%%time\n",
    "def countdown(n):\n",
    "    while n > 0:\n",
    "        n -= 1\n",
    "\n",
    "COUNT = 500000000\n",
    "countdown(COUNT)"
   ]
  },
  {
   "cell_type": "code",
   "execution_count": 31,
   "id": "21c2045b",
   "metadata": {},
   "outputs": [
    {
     "name": "stdout",
     "output_type": "stream",
     "text": [
      "Wall time: 91.8 ms\n"
     ]
    }
   ],
   "source": [
    "%%time\n",
    "import threading\n",
    "\n",
    "# how many threads we want to start\n",
    "THREADS_COUNT = 2\n",
    "\n",
    "class Threaded_worker(threading.Thread):\n",
    "    def __init__(self):\n",
    "        threading.Thread.__init__(self)\n",
    "\n",
    "    def run(self):\n",
    "        n = 250000000\n",
    "        while n > 0:\n",
    "            n -= 1\n",
    "\n",
    "for i in range(THREADS_COUNT):\n",
    "    td = Threaded_worker()\n",
    "    td.start()"
   ]
  },
  {
   "cell_type": "code",
   "execution_count": 23,
   "id": "4c47cee3",
   "metadata": {},
   "outputs": [
    {
     "name": "stdout",
     "output_type": "stream",
     "text": [
      "Wall time: 8.98 ms\n"
     ]
    }
   ],
   "source": [
    "%%time\n",
    "import multiprocessing\n",
    "\n",
    "WORKER_NUMBER = 2\n",
    "\n",
    "def worker():\n",
    "    n = 250000000\n",
    "    while n > 0:\n",
    "        n -= 1\n",
    "\n",
    "jobs = []\n",
    "for i in range(WORKER_NUMBER):\n",
    "    p = multiprocessing.Process(target=worker, args=())\n",
    "    jobs.append(p)\n",
    "    p.start()"
   ]
  },
  {
   "cell_type": "code",
   "execution_count": null,
   "id": "79514cb2",
   "metadata": {},
   "outputs": [],
   "source": []
  }
 ],
 "metadata": {
  "kernelspec": {
   "display_name": "Python 3",
   "language": "python",
   "name": "python3"
  },
  "language_info": {
   "codemirror_mode": {
    "name": "ipython",
    "version": 3
   },
   "file_extension": ".py",
   "mimetype": "text/x-python",
   "name": "python",
   "nbconvert_exporter": "python",
   "pygments_lexer": "ipython3",
   "version": "3.8.8"
  }
 },
 "nbformat": 4,
 "nbformat_minor": 5
}
