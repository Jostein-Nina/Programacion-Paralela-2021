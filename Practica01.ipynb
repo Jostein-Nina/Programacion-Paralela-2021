{
 "cells": [
  {
   "cell_type": "code",
   "execution_count": 1,
   "id": "226c418b",
   "metadata": {},
   "outputs": [
    {
     "name": "stdout",
     "output_type": "stream",
     "text": [
      "Hola Mundo\n"
     ]
    }
   ],
   "source": [
    "print(\"Hola Mundo\");"
   ]
  },
  {
   "cell_type": "code",
   "execution_count": 2,
   "id": "133e1d91",
   "metadata": {},
   "outputs": [
    {
     "name": "stdout",
     "output_type": "stream",
     "text": [
      "2021-09-02 20:59:51.846450\n",
      "20:59:51.846450\n",
      "2021-09-02\n",
      "Hora:  20 Minuto:  59 Segundo:  51\n",
      "2021 9 2\n"
     ]
    }
   ],
   "source": [
    "import datetime\n",
    "\n",
    "hora_fecha_actual = datetime.datetime.now()\n",
    "\n",
    "print(hora_fecha_actual)\n",
    "\n",
    "hora = hora_fecha_actual.time()\n",
    "fecha = hora_fecha_actual.date()\n",
    "\n",
    "print(hora)\n",
    "print (fecha)\n",
    "\n",
    "print (\"Hora: \",hora.hour,\"Minuto: \",hora.minute,\"Segundo: \",hora.second)\n",
    "print (fecha.year, fecha.month, fecha.day)"
   ]
  },
  {
   "cell_type": "code",
   "execution_count": 3,
   "id": "70ac1ddd",
   "metadata": {},
   "outputs": [
    {
     "name": "stdout",
     "output_type": "stream",
     "text": [
      "Numero de procesadores:  4\n"
     ]
    }
   ],
   "source": [
    "import multiprocessing as mp\n",
    "print(\"Numero de procesadores: \",mp.cpu_count())"
   ]
  },
  {
   "cell_type": "code",
   "execution_count": 5,
   "id": "6cc1f9f4",
   "metadata": {},
   "outputs": [
    {
     "data": {
      "text/plain": [
       "[[1, 9, 3, 3, 9],\n",
       " [1, 0, 4, 1, 6],\n",
       " [2, 4, 2, 1, 0],\n",
       " [3, 5, 7, 3, 3],\n",
       " [4, 0, 1, 8, 9]]"
      ]
     },
     "execution_count": 5,
     "metadata": {},
     "output_type": "execute_result"
    }
   ],
   "source": [
    "import numpy as np\n",
    "from time import time\n",
    "np.random.RandomState(100)\n",
    "arr = np.random.randint(0,10, size=[200000, 5])\n",
    "data = arr.tolist()\n",
    "data[:5]"
   ]
  },
  {
   "cell_type": "code",
   "execution_count": 8,
   "id": "4d412f8f",
   "metadata": {},
   "outputs": [
    {
     "name": "stdout",
     "output_type": "stream",
     "text": [
      "0 1 1 2 3 5 8 13 21 34 55 89 144 233 377 610 987 \n"
     ]
    }
   ],
   "source": [
    "def fib(n):\n",
    "    a,b = 0,1\n",
    "    while a < n:\n",
    "        print (a, end=' ')\n",
    "        a,b = b, a+b\n",
    "    print ()\n",
    "fib(1000)"
   ]
  },
  {
   "cell_type": "code",
   "execution_count": 9,
   "id": "1f9d7d71",
   "metadata": {},
   "outputs": [
    {
     "name": "stderr",
     "output_type": "stream",
     "text": [
      "[Parallel(n_jobs=-1)]: Using backend LokyBackend with 4 concurrent workers.\n",
      "[Parallel(n_jobs=-1)]: Done  10 tasks      | elapsed:    0.9s\n",
      "[Parallel(n_jobs=-1)]: Done 520 tasks      | elapsed:    1.1s\n",
      "[Parallel(n_jobs=-1)]: Done 3000 out of 3000 | elapsed:    1.6s finished\n"
     ]
    }
   ],
   "source": [
    "from joblib import Parallel, delayed\n",
    "from os import getpid\n",
    "\n",
    "def modfib(n):\n",
    "    if n%400 == 0:\n",
    "        print(getpid(), n)  \n",
    "\n",
    "    # fibonacci mod 1000000\n",
    "    a,b = 0,1\n",
    "    for i in range(n):\n",
    "        a,b = b,(a+b)%1000000\n",
    "    return b\n",
    "\n",
    "if __name__ == \"__main__\":\n",
    "    Parallel(n_jobs=-1, verbose=5)(delayed(modfib)(j) for j in range(1000, 4000))"
   ]
  },
  {
   "cell_type": "code",
   "execution_count": null,
   "id": "67b69dab",
   "metadata": {},
   "outputs": [],
   "source": []
  }
 ],
 "metadata": {
  "kernelspec": {
   "display_name": "Python 3",
   "language": "python",
   "name": "python3"
  },
  "language_info": {
   "codemirror_mode": {
    "name": "ipython",
    "version": 3
   },
   "file_extension": ".py",
   "mimetype": "text/x-python",
   "name": "python",
   "nbconvert_exporter": "python",
   "pygments_lexer": "ipython3",
   "version": "3.8.8"
  }
 },
 "nbformat": 4,
 "nbformat_minor": 5
}
